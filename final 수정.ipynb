{
 "cells": [
  {
   "cell_type": "code",
   "execution_count": 1,
   "id": "eac36d71-a2b9-4abd-9eb3-e73a0b1c6505",
   "metadata": {},
   "outputs": [
    {
     "name": "stdout",
     "output_type": "stream",
     "text": [
      "Requirement already satisfied: pyxlsb in c:\\users\\work\\anaconda3\\lib\\site-packages (1.0.10)\n",
      "Requirement already satisfied: pandas in c:\\users\\work\\anaconda3\\lib\\site-packages (2.1.4)\n",
      "Requirement already satisfied: openpyxl in c:\\users\\work\\anaconda3\\lib\\site-packages (3.0.10)\n",
      "Requirement already satisfied: numpy<2,>=1.23.2 in c:\\users\\work\\anaconda3\\lib\\site-packages (from pandas) (1.23.5)\n",
      "Requirement already satisfied: python-dateutil>=2.8.2 in c:\\users\\work\\anaconda3\\lib\\site-packages (from pandas) (2.8.2)\n",
      "Requirement already satisfied: pytz>=2020.1 in c:\\users\\work\\anaconda3\\lib\\site-packages (from pandas) (2023.3.post1)\n",
      "Requirement already satisfied: tzdata>=2022.1 in c:\\users\\work\\anaconda3\\lib\\site-packages (from pandas) (2023.3)\n",
      "Requirement already satisfied: et_xmlfile in c:\\users\\work\\anaconda3\\lib\\site-packages (from openpyxl) (1.1.0)\n",
      "Requirement already satisfied: six>=1.5 in c:\\users\\work\\anaconda3\\lib\\site-packages (from python-dateutil>=2.8.2->pandas) (1.16.0)\n"
     ]
    }
   ],
   "source": [
    "# 필요한 라이브러리 설치\n",
    "!pip install pyxlsb\n",
    "\n",
    "!pip install pandas openpyxl\n",
    "\n",
    "\n"
   ]
  },
  {
   "cell_type": "code",
   "execution_count": 2,
   "id": "7a1bb906-1525-462c-9cfb-56fd6a9ce5b9",
   "metadata": {},
   "outputs": [],
   "source": [
    "import pandas as pd\n",
    "import numpy as np \n",
    "import os\n"
   ]
  },
  {
   "cell_type": "markdown",
   "id": "6d60046c-0829-4c39-88d0-11a2a6b872a7",
   "metadata": {},
   "source": [
    "# 경로지정"
   ]
  },
  {
   "cell_type": "code",
   "execution_count": 3,
   "id": "4fd6b822-d9fe-4003-a7fa-0a80824367e8",
   "metadata": {},
   "outputs": [],
   "source": [
    "\n",
    "# 파일 경로 지정\n",
    "xlsb_file = r\"C:\\Users\\work\\Desktop\\ori.xlsb\" #원본\n",
    "output_csv = r\"C:\\Users\\work\\Desktop\\CH55, 56_Full cell LSV_1 mV_250122_01.csv\" #수정"
   ]
  },
  {
   "cell_type": "code",
   "execution_count": 4,
   "id": "3651bf01-9769-4203-b1f9-138385655fe2",
   "metadata": {},
   "outputs": [
    {
     "name": "stdout",
     "output_type": "stream",
     "text": [
      "파일 경로 확인 완료!\n",
      "데이터프레임 열 개수: 19\n",
      "원본 데이터 열 목록: ['Unnamed: 0', 'Unnamed: 1', 'Unnamed: 2', 'Unnamed: 3', 'Unnamed: 4', 'Unnamed: 5', 'Unnamed: 6', 'Unnamed: 7', 'Unnamed: 8', 'Unnamed: 9', 'Unnamed: 10', 'Unnamed: 11', 'Unnamed: 12', 'Unnamed: 13', 'Unnamed: 14', 'Unnamed: 15', 'Unnamed: 16', 'Unnamed: 17', 'Unnamed: 18']\n",
      "헤더 설정 후 데이터 열 목록: ['ListNo', 'TestTime_s', 'FileNo', 'FileTime_s', 'CycleNo', 'CycleTime_s', 'StepNo', 'StepTime_s', '_Current_A', 'Voltage_V', 'Power_W', 'Load_Ohm', 'SumQ_Ah', 'AbsQ_Ah', 'Temperature_C', 'Auxiliary1_V', 'Auxiliary2_V', 'Auxiliary3_V', 'OCP_V']\n",
      "데이터 샘플:\n",
      "    ListNo  TestTime_s  FileNo  FileTime_s  CycleNo  CycleTime_s  StepNo  \\\n",
      "0       1         NaN       1         NaN        1          NaN       1   \n",
      "1       2         NaN       1         NaN        1          NaN       1   \n",
      "2       3         NaN       1         NaN        1          NaN       1   \n",
      "3       4         NaN       1         NaN        1          NaN       1   \n",
      "4       5         NaN       1         NaN        1          NaN       1   \n",
      "\n",
      "   StepTime_s  _Current_A  Voltage_V  Power_W  Load_Ohm  SumQ_Ah  AbsQ_Ah  \\\n",
      "0         NaN         0.0   0.381347      0.0       0.0      0.0      0.0   \n",
      "1         NaN         0.0   0.381347      0.0       0.0      0.0      0.0   \n",
      "2         NaN         0.0   0.381347      0.0       0.0      0.0      0.0   \n",
      "3         NaN         0.0   0.381347      0.0       0.0      0.0      0.0   \n",
      "4         NaN         0.0   0.381347      0.0       0.0      0.0      0.0   \n",
      "\n",
      "   Temperature_C  Auxiliary1_V  Auxiliary2_V  Auxiliary3_V     OCP_V  \n",
      "0              0     -0.547797             0             0  0.381347  \n",
      "1              0     -0.547617             0             0  0.381347  \n",
      "2              0     -0.548032             0             0  0.381347  \n",
      "3              0     -0.547750             0             0  0.381347  \n",
      "4              0     -0.548048             0             0  0.381347  \n"
     ]
    }
   ],
   "source": [
    "# 파일 존재 여부 확인\n",
    "if not os.path.exists(xlsb_file):\n",
    "    raise FileNotFoundError(f\"파일이 존재하지 않습니다: {xlsb_file}\")\n",
    "else:\n",
    "    print(\"파일 경로 확인 완료!\")\n",
    "\n",
    "# 1. xlsb 파일 읽기 (DCData1 시트, header=0으로 읽기)\n",
    "df = pd.read_excel(xlsb_file, engine='pyxlsb', sheet_name=\"DCData1\", header=0)\n",
    "\n",
    "# 데이터프레임 열 개수 확인\n",
    "print(\"데이터프레임 열 개수:\", len(df.columns))\n",
    "\n",
    "# 원본 데이터 열 목록 출력\n",
    "print(\"원본 데이터 열 목록:\", df.columns.tolist())\n",
    "\n",
    "# 열 이름 수동 설정 (원본 데이터에 맞게 조정)\n",
    "expected_columns = 19  # 원본 데이터에서 예상하는 열 개수\n",
    "if len(df.columns) == expected_columns:\n",
    "    df.columns = [\n",
    "        \"ListNo\", \"TestTime_s\", \"FileNo\", \"FileTime_s\", \"CycleNo\", \"CycleTime_s\", \"StepNo\", \"StepTime_s\", \n",
    "        \"_Current_A\", \"Voltage_V\", \"Power_W\", \"Load_Ohm\", \"SumQ_Ah\", \"AbsQ_Ah\", \"Temperature_C\", \n",
    "        \"Auxiliary1_V\", \"Auxiliary2_V\", \"Auxiliary3_V\", \"OCP_V\"\n",
    "    ]\n",
    "else:\n",
    "    raise ValueError(f\"원본 데이터의 열 개수가 예상과 다릅니다. 현재 열 개수: {len(df.columns)}\")\n",
    "\n",
    "# 데이터프레임 열 확인 및 상위 데이터 출력\n",
    "print(\"헤더 설정 후 데이터 열 목록:\", df.columns.tolist())\n",
    "print(\"데이터 샘플:\\n\", df.head())"
   ]
  },
  {
   "cell_type": "markdown",
   "id": "477fb1a3-86fc-4fca-bdbc-141998b3870f",
   "metadata": {},
   "source": [
    "# 몇 행 쓸건지, 파라미터(전극 오차값(mV)) 값"
   ]
  },
  {
   "cell_type": "code",
   "execution_count": 5,
   "id": "7496cf97-3d62-4133-ac98-32a339b66b2f",
   "metadata": {},
   "outputs": [],
   "source": [
    "\n",
    "# 2. 1801행부터 데이터를 선택\n",
    "df = df.iloc[1799:]  # 1800행부터 선택 (인덱스는 0부터 시작하므로 1799)\n",
    "\n",
    "# 파라미터 값 설정 (사용자가 변경할 값)\n",
    "parameter = 5.9 # 초기값 설정, 필요에 따라 변경\n"
   ]
  },
  {
   "cell_type": "code",
   "execution_count": 6,
   "id": "03596a5d-bf6c-4673-a914-19a4c80e2de8",
   "metadata": {
    "scrolled": true
   },
   "outputs": [],
   "source": [
    "\n",
    "# 필요한 열 선택 및 이름 변경\n",
    "new_df = pd.DataFrame()\n",
    "if \"_Current_A\" in df.columns and \"Voltage_V\" in df.columns:\n",
    "    new_df[\"A(I열)\"] = df[\"_Current_A\"]  # 원본 A(I열)\n",
    "    new_df[\"V(J열)\"] = df[\"Voltage_V\"]    # 원본 V(J열)\n",
    "    \n",
    "    # 새로운 열 추가\n",
    "    new_df[\"mV(F.C Ag/AgCl)\"] = df[\"Voltage_V\"] * 1000  # V에서 mV로 변환\n",
    "    new_df[\"mA/m2\"] = (df[\"_Current_A\"] * 1000) / 0.0007  # A에서 mA/m²로 변환\n",
    "    new_df[\"mW/m2\"] = (new_df[\"A(I열)\"] * new_df[\"mV(F.C Ag/AgCl)\"] * 1000) / 0.0007 * (-0.001)  # mW/m² 계산 후 -0.001로 수정\n",
    "\n",
    "     # 빈 열 개수 설정\n",
    "    num_empty_columns = 3  # 추가할 빈 열의 개수\n",
    "    for i in range(num_empty_columns):\n",
    "        new_df[f\"빈열_{i+1}\"] = np.nan  # 빈 열을 NaN으로 추가\n",
    "    \n",
    "    # 빈 열 이름을 공백으로 설정\n",
    "    new_df.columns = [\"\" if \"빈열\" in col else col for col in new_df.columns]\n",
    "\n",
    "\n",
    "    # H, I, J 열 추가\n",
    "    new_df[\"기준전극 전압(V)(P열)\"] = df[\"Auxiliary1_V\"]  # 기준전극 전압(V)\n",
    "    new_df[\"기준전극 전압(mV)(Anode Ag/AgCl)\"] = df[\"Auxiliary1_V\"] * 1000  # 기준전극 전압(mV)\n",
    "\n",
    "    # 새로운 계산 추가\n",
    "    new_df[\"Cathode potential (Cathode Ag/AgCl)\"] = (df[\"Voltage_V\"] * 1000) + (df[\"Auxiliary1_V\"] * 1000)  # Cathode potential\n",
    "    new_df[\"전극 보정(Anode) SHE\"] = (df[\"Auxiliary1_V\"] * 1000) + 209 - parameter  # 전극 보정\n",
    "    new_df[\"cathode 값 SHE\"] = (df[\"Voltage_V\"] * 1000) + (df[\"Auxiliary1_V\"]*1000 + 209 - parameter)  # cathode 값 SHE\n",
    "\n",
    "else:\n",
    "    raise ValueError(\"Auxiliary1_V 또는 Voltage_V 열이 원본 데이터에 없습니다. 열 이름을 확인하세요.\")\n",
    "\n"
   ]
  },
  {
   "cell_type": "markdown",
   "id": "ced15a16-2eb2-4084-a5a8-3882ad1478c9",
   "metadata": {},
   "source": [
    "# 데이터 확인 및 저장"
   ]
  },
  {
   "cell_type": "code",
   "execution_count": 8,
   "id": "85296664-1ee4-43e4-8993-e2f073ee1b98",
   "metadata": {},
   "outputs": [
    {
     "name": "stdout",
     "output_type": "stream",
     "text": [
      "정제된 데이터:\n",
      "          A(I열)     V(J열)  mV(F.C Ag/AgCl)       mA/m2       mW/m2              \\\n",
      "1799  0.000000  0.423582       423.581600    0.000000   -0.000000 NaN NaN NaN   \n",
      "1800 -0.000476  0.422179       422.178745 -679.464720  286.855563 NaN NaN NaN   \n",
      "1801 -0.000517  0.421215       421.215415 -737.983667  310.850097 NaN NaN NaN   \n",
      "1802 -0.000551  0.420221       420.221001 -787.499677  330.923902 NaN NaN NaN   \n",
      "1803 -0.000586  0.419227       419.226587 -837.015687  350.899229 NaN NaN NaN   \n",
      "\n",
      "      기준전극 전압(V)(P열)  기준전극 전압(mV)(Anode Ag/AgCl)  \\\n",
      "1799       -0.546723                 -546.722889   \n",
      "1800       -0.546882                 -546.882451   \n",
      "1801       -0.546786                 -546.786070   \n",
      "1802       -0.546459                 -546.459496   \n",
      "1803       -0.546411                 -546.411335   \n",
      "\n",
      "      Cathode potential (Cathode Ag/AgCl)  전극 보정(Anode) SHE  cathode 값 SHE  \n",
      "1799                          -123.141289       -343.622889      79.958711  \n",
      "1800                          -124.703705       -343.782451      78.396295  \n",
      "1801                          -125.570655       -343.686070      77.529345  \n",
      "1802                          -126.238495       -343.359496      76.861505  \n",
      "1803                          -127.184749       -343.311335      75.915251  \n",
      "정제된 데이터가 C:\\Users\\work\\Desktop\\CH55, 56_Full cell LSV_1 mV_250122_01.csv로 저장되었습니다.\n"
     ]
    }
   ],
   "source": [
    "\n",
    "# 3. 데이터 확인\n",
    "print(\"정제된 데이터:\\n\", new_df.head())\n",
    "\n",
    "# 4. CSV로 저장 (인코딩 설정)\n",
    "new_df.to_csv(output_csv, index=False, encoding='utf-8-sig')\n",
    "print(f\"정제된 데이터가 {output_csv}로 저장되었습니다.\")"
   ]
  },
  {
   "cell_type": "code",
   "execution_count": null,
   "id": "8524771c-29d9-4209-acc2-397ef74e986a",
   "metadata": {},
   "outputs": [],
   "source": []
  }
 ],
 "metadata": {
  "kernelspec": {
   "display_name": "Python 3 (ipykernel)",
   "language": "python",
   "name": "python3"
  },
  "language_info": {
   "codemirror_mode": {
    "name": "ipython",
    "version": 3
   },
   "file_extension": ".py",
   "mimetype": "text/x-python",
   "name": "python",
   "nbconvert_exporter": "python",
   "pygments_lexer": "ipython3",
   "version": "3.11.7"
  }
 },
 "nbformat": 4,
 "nbformat_minor": 5
}
